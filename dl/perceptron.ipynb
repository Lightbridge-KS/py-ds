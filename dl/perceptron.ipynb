{
 "cells": [
  {
   "cell_type": "markdown",
   "metadata": {},
   "source": [
    "# Perceptron"
   ]
  },
  {
   "cell_type": "code",
   "execution_count": 1,
   "metadata": {},
   "outputs": [],
   "source": [
    "import numpy as np"
   ]
  },
  {
   "cell_type": "markdown",
   "metadata": {},
   "source": [
    "### Step function (activation function)"
   ]
  },
  {
   "cell_type": "code",
   "execution_count": 24,
   "metadata": {},
   "outputs": [],
   "source": [
    "# Step function (activation function)\n",
    "def step_function(x):\n",
    "    return 1 if x >= 0 else 0"
   ]
  },
  {
   "cell_type": "markdown",
   "metadata": {},
   "source": [
    "### Perceptron Model"
   ]
  },
  {
   "cell_type": "code",
   "execution_count": 22,
   "metadata": {},
   "outputs": [],
   "source": [
    "# Perceptron model\n",
    "class Perceptron:\n",
    "    def __init__(self, input_size, learning_rate=0.1):\n",
    "        self.weights = np.zeros(input_size + 1)  # Initialize weights and bias to 0\n",
    "        self.learning_rate = learning_rate\n",
    "\n",
    "    def predict(self, inputs):\n",
    "        # Add bias term to the inputs\n",
    "        summation = np.dot(inputs, self.weights[1:]) + self.weights[0]\n",
    "        return step_function(summation)\n",
    "\n",
    "    def train(self, training_inputs, labels, epochs=10):\n",
    "        for _ in range(epochs):\n",
    "            for inputs, label in zip(training_inputs, labels):\n",
    "                prediction = self.predict(inputs)\n",
    "                # Update weights and bias\n",
    "                self.weights[1:] += self.learning_rate * (label - prediction) * inputs\n",
    "                self.weights[0] += self.learning_rate * (label - prediction)"
   ]
  },
  {
   "cell_type": "code",
   "execution_count": 25,
   "metadata": {},
   "outputs": [
    {
     "name": "stdout",
     "output_type": "stream",
     "text": [
      "Input: [0 0] -> Output: 0\n",
      "Input: [0 1] -> Output: 0\n",
      "Input: [1 0] -> Output: 0\n",
      "Input: [1 1] -> Output: 1\n"
     ]
    }
   ],
   "source": [
    "# Training data (AND logic gate)\n",
    "training_inputs = np.array([[0, 0], \n",
    "                            [0, 1], \n",
    "                            [1, 0], \n",
    "                            [1, 1]])\n",
    "labels = np.array([0, 0, 0, 1])  # AND gate outputs\n",
    "\n",
    "# Initialize perceptron\n",
    "perceptron = Perceptron(input_size=2)\n",
    "\n",
    "# Train perceptron\n",
    "perceptron.train(training_inputs, labels, epochs=10)\n",
    "\n",
    "# Test the perceptron\n",
    "test_inputs = np.array([[0, 0], [0, 1], [1, 0], [1, 1]])\n",
    "for inputs in test_inputs:\n",
    "    print(f\"Input: {inputs} -> Output: {perceptron.predict(inputs)}\")"
   ]
  }
 ],
 "metadata": {
  "kernelspec": {
   "display_name": "Python 3",
   "language": "python",
   "name": "python3"
  },
  "language_info": {
   "codemirror_mode": {
    "name": "ipython",
    "version": 3
   },
   "file_extension": ".py",
   "mimetype": "text/x-python",
   "name": "python",
   "nbconvert_exporter": "python",
   "pygments_lexer": "ipython3",
   "version": "3.10.10"
  }
 },
 "nbformat": 4,
 "nbformat_minor": 2
}
