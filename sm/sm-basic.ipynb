{
 "cells": [
  {
   "cell_type": "markdown",
   "id": "d1110b94",
   "metadata": {},
   "source": [
    "# StatsModel — Basic\n",
    "\n",
    "StatsModels is a Python library for statistical modeling and econometrics. It provides classes and functions for estimating various statistical models, conducting statistical tests, and exploring data. StatsModels complements SciPy and provides a more comprehensive set of tools for statistical analysis.\n",
    "\n",
    "Key features of StatsModels include:\n",
    "\n",
    "- Linear regression models\n",
    "- Generalized linear models\n",
    "- Robust linear models\n",
    "- Linear mixed effects models\n",
    "- Time series analysis tools\n",
    "- Nonparametric methods\n",
    "- Visualization of statistical model results\n",
    "\n",
    "In this notebook, we'll explore basic usage of StatsModels for linear regression."
   ]
  },
  {
   "cell_type": "code",
   "execution_count": 8,
   "id": "393f7142",
   "metadata": {},
   "outputs": [],
   "source": [
    "import statsmodels.api as sm\n",
    "import pandas\n",
    "from patsy import dmatrices"
   ]
  },
  {
   "cell_type": "markdown",
   "id": "42acc3b7",
   "metadata": {},
   "source": [
    "## Data Download\n",
    "\n",
    "For this example, we'll use the Guerry dataset, a historical dataset collected by André-Michel Guerry in the 1830s. It contains data about crime, literacy, poverty, and other moral statistics for departments in France.\n",
    "\n",
    "The dataset is accessible through StatsModels' `get_rdataset` function, which imports datasets from R packages.\n",
    "\n",
    "The Guerry dataset includes variables such as:\n",
    "\n",
    "- Lottery: Per capita wager on Royal Lottery\n",
    "- Literacy: Percent of military conscripts who can read and write\n",
    "- Wealth: Tax on personal property\n",
    "- Region: Geographic region (N, E, S, W, C for North, East, South, West, Central)"
   ]
  },
  {
   "cell_type": "code",
   "execution_count": 3,
   "id": "63a08e8f",
   "metadata": {},
   "outputs": [
    {
     "data": {
      "application/vnd.microsoft.datawrangler.viewer.v0+json": {
       "columns": [
        {
         "name": "index",
         "rawType": "int64",
         "type": "integer"
        },
        {
         "name": "dept",
         "rawType": "int64",
         "type": "integer"
        },
        {
         "name": "Region",
         "rawType": "object",
         "type": "string"
        },
        {
         "name": "Department",
         "rawType": "object",
         "type": "string"
        },
        {
         "name": "Crime_pers",
         "rawType": "int64",
         "type": "integer"
        },
        {
         "name": "Crime_prop",
         "rawType": "int64",
         "type": "integer"
        },
        {
         "name": "Literacy",
         "rawType": "int64",
         "type": "integer"
        },
        {
         "name": "Donations",
         "rawType": "int64",
         "type": "integer"
        },
        {
         "name": "Infants",
         "rawType": "int64",
         "type": "integer"
        },
        {
         "name": "Suicides",
         "rawType": "int64",
         "type": "integer"
        },
        {
         "name": "MainCity",
         "rawType": "object",
         "type": "string"
        },
        {
         "name": "Wealth",
         "rawType": "int64",
         "type": "integer"
        },
        {
         "name": "Commerce",
         "rawType": "int64",
         "type": "integer"
        },
        {
         "name": "Clergy",
         "rawType": "int64",
         "type": "integer"
        },
        {
         "name": "Crime_parents",
         "rawType": "int64",
         "type": "integer"
        },
        {
         "name": "Infanticide",
         "rawType": "int64",
         "type": "integer"
        },
        {
         "name": "Donation_clergy",
         "rawType": "int64",
         "type": "integer"
        },
        {
         "name": "Lottery",
         "rawType": "int64",
         "type": "integer"
        },
        {
         "name": "Desertion",
         "rawType": "int64",
         "type": "integer"
        },
        {
         "name": "Instruction",
         "rawType": "int64",
         "type": "integer"
        },
        {
         "name": "Prostitutes",
         "rawType": "int64",
         "type": "integer"
        },
        {
         "name": "Distance",
         "rawType": "float64",
         "type": "float"
        },
        {
         "name": "Area",
         "rawType": "int64",
         "type": "integer"
        },
        {
         "name": "Pop1831",
         "rawType": "float64",
         "type": "float"
        }
       ],
       "conversionMethod": "pd.DataFrame",
       "ref": "9b38e2e0-4a3f-476c-ba11-158c854186aa",
       "rows": [
        [
         "0",
         "1",
         "E",
         "Ain",
         "28870",
         "15890",
         "37",
         "5098",
         "33120",
         "35039",
         "2:Med",
         "73",
         "58",
         "11",
         "71",
         "60",
         "69",
         "41",
         "55",
         "46",
         "13",
         "218.372",
         "5762",
         "346.03"
        ],
        [
         "1",
         "2",
         "N",
         "Aisne",
         "26226",
         "5521",
         "51",
         "8901",
         "14572",
         "12831",
         "2:Med",
         "22",
         "10",
         "82",
         "4",
         "82",
         "36",
         "38",
         "82",
         "24",
         "327",
         "65.945",
         "7369",
         "513.0"
        ],
        [
         "2",
         "3",
         "C",
         "Allier",
         "26747",
         "7925",
         "13",
         "10973",
         "17044",
         "114121",
         "2:Med",
         "61",
         "66",
         "68",
         "46",
         "42",
         "76",
         "66",
         "16",
         "85",
         "34",
         "161.927",
         "7340",
         "298.26"
        ],
        [
         "3",
         "4",
         "E",
         "Basses-Alpes",
         "12935",
         "7289",
         "46",
         "2733",
         "23018",
         "14238",
         "1:Sm",
         "76",
         "49",
         "5",
         "70",
         "12",
         "37",
         "80",
         "32",
         "29",
         "2",
         "351.399",
         "6925",
         "155.9"
        ],
        [
         "4",
         "5",
         "E",
         "Hautes-Alpes",
         "17488",
         "8174",
         "69",
         "6962",
         "23076",
         "16171",
         "1:Sm",
         "83",
         "65",
         "10",
         "22",
         "23",
         "64",
         "79",
         "35",
         "7",
         "1",
         "320.28",
         "5549",
         "129.1"
        ]
       ],
       "shape": {
        "columns": 23,
        "rows": 5
       }
      },
      "text/html": [
       "<div>\n",
       "<style scoped>\n",
       "    .dataframe tbody tr th:only-of-type {\n",
       "        vertical-align: middle;\n",
       "    }\n",
       "\n",
       "    .dataframe tbody tr th {\n",
       "        vertical-align: top;\n",
       "    }\n",
       "\n",
       "    .dataframe thead th {\n",
       "        text-align: right;\n",
       "    }\n",
       "</style>\n",
       "<table border=\"1\" class=\"dataframe\">\n",
       "  <thead>\n",
       "    <tr style=\"text-align: right;\">\n",
       "      <th></th>\n",
       "      <th>dept</th>\n",
       "      <th>Region</th>\n",
       "      <th>Department</th>\n",
       "      <th>Crime_pers</th>\n",
       "      <th>Crime_prop</th>\n",
       "      <th>Literacy</th>\n",
       "      <th>Donations</th>\n",
       "      <th>Infants</th>\n",
       "      <th>Suicides</th>\n",
       "      <th>MainCity</th>\n",
       "      <th>...</th>\n",
       "      <th>Crime_parents</th>\n",
       "      <th>Infanticide</th>\n",
       "      <th>Donation_clergy</th>\n",
       "      <th>Lottery</th>\n",
       "      <th>Desertion</th>\n",
       "      <th>Instruction</th>\n",
       "      <th>Prostitutes</th>\n",
       "      <th>Distance</th>\n",
       "      <th>Area</th>\n",
       "      <th>Pop1831</th>\n",
       "    </tr>\n",
       "  </thead>\n",
       "  <tbody>\n",
       "    <tr>\n",
       "      <th>0</th>\n",
       "      <td>1</td>\n",
       "      <td>E</td>\n",
       "      <td>Ain</td>\n",
       "      <td>28870</td>\n",
       "      <td>15890</td>\n",
       "      <td>37</td>\n",
       "      <td>5098</td>\n",
       "      <td>33120</td>\n",
       "      <td>35039</td>\n",
       "      <td>2:Med</td>\n",
       "      <td>...</td>\n",
       "      <td>71</td>\n",
       "      <td>60</td>\n",
       "      <td>69</td>\n",
       "      <td>41</td>\n",
       "      <td>55</td>\n",
       "      <td>46</td>\n",
       "      <td>13</td>\n",
       "      <td>218.372</td>\n",
       "      <td>5762</td>\n",
       "      <td>346.03</td>\n",
       "    </tr>\n",
       "    <tr>\n",
       "      <th>1</th>\n",
       "      <td>2</td>\n",
       "      <td>N</td>\n",
       "      <td>Aisne</td>\n",
       "      <td>26226</td>\n",
       "      <td>5521</td>\n",
       "      <td>51</td>\n",
       "      <td>8901</td>\n",
       "      <td>14572</td>\n",
       "      <td>12831</td>\n",
       "      <td>2:Med</td>\n",
       "      <td>...</td>\n",
       "      <td>4</td>\n",
       "      <td>82</td>\n",
       "      <td>36</td>\n",
       "      <td>38</td>\n",
       "      <td>82</td>\n",
       "      <td>24</td>\n",
       "      <td>327</td>\n",
       "      <td>65.945</td>\n",
       "      <td>7369</td>\n",
       "      <td>513.00</td>\n",
       "    </tr>\n",
       "    <tr>\n",
       "      <th>2</th>\n",
       "      <td>3</td>\n",
       "      <td>C</td>\n",
       "      <td>Allier</td>\n",
       "      <td>26747</td>\n",
       "      <td>7925</td>\n",
       "      <td>13</td>\n",
       "      <td>10973</td>\n",
       "      <td>17044</td>\n",
       "      <td>114121</td>\n",
       "      <td>2:Med</td>\n",
       "      <td>...</td>\n",
       "      <td>46</td>\n",
       "      <td>42</td>\n",
       "      <td>76</td>\n",
       "      <td>66</td>\n",
       "      <td>16</td>\n",
       "      <td>85</td>\n",
       "      <td>34</td>\n",
       "      <td>161.927</td>\n",
       "      <td>7340</td>\n",
       "      <td>298.26</td>\n",
       "    </tr>\n",
       "    <tr>\n",
       "      <th>3</th>\n",
       "      <td>4</td>\n",
       "      <td>E</td>\n",
       "      <td>Basses-Alpes</td>\n",
       "      <td>12935</td>\n",
       "      <td>7289</td>\n",
       "      <td>46</td>\n",
       "      <td>2733</td>\n",
       "      <td>23018</td>\n",
       "      <td>14238</td>\n",
       "      <td>1:Sm</td>\n",
       "      <td>...</td>\n",
       "      <td>70</td>\n",
       "      <td>12</td>\n",
       "      <td>37</td>\n",
       "      <td>80</td>\n",
       "      <td>32</td>\n",
       "      <td>29</td>\n",
       "      <td>2</td>\n",
       "      <td>351.399</td>\n",
       "      <td>6925</td>\n",
       "      <td>155.90</td>\n",
       "    </tr>\n",
       "    <tr>\n",
       "      <th>4</th>\n",
       "      <td>5</td>\n",
       "      <td>E</td>\n",
       "      <td>Hautes-Alpes</td>\n",
       "      <td>17488</td>\n",
       "      <td>8174</td>\n",
       "      <td>69</td>\n",
       "      <td>6962</td>\n",
       "      <td>23076</td>\n",
       "      <td>16171</td>\n",
       "      <td>1:Sm</td>\n",
       "      <td>...</td>\n",
       "      <td>22</td>\n",
       "      <td>23</td>\n",
       "      <td>64</td>\n",
       "      <td>79</td>\n",
       "      <td>35</td>\n",
       "      <td>7</td>\n",
       "      <td>1</td>\n",
       "      <td>320.280</td>\n",
       "      <td>5549</td>\n",
       "      <td>129.10</td>\n",
       "    </tr>\n",
       "  </tbody>\n",
       "</table>\n",
       "<p>5 rows × 23 columns</p>\n",
       "</div>"
      ],
      "text/plain": [
       "   dept Region    Department  Crime_pers  Crime_prop  Literacy  Donations  \\\n",
       "0     1      E           Ain       28870       15890        37       5098   \n",
       "1     2      N         Aisne       26226        5521        51       8901   \n",
       "2     3      C        Allier       26747        7925        13      10973   \n",
       "3     4      E  Basses-Alpes       12935        7289        46       2733   \n",
       "4     5      E  Hautes-Alpes       17488        8174        69       6962   \n",
       "\n",
       "   Infants  Suicides MainCity  ...  Crime_parents  Infanticide  \\\n",
       "0    33120     35039    2:Med  ...             71           60   \n",
       "1    14572     12831    2:Med  ...              4           82   \n",
       "2    17044    114121    2:Med  ...             46           42   \n",
       "3    23018     14238     1:Sm  ...             70           12   \n",
       "4    23076     16171     1:Sm  ...             22           23   \n",
       "\n",
       "   Donation_clergy  Lottery  Desertion  Instruction  Prostitutes  Distance  \\\n",
       "0               69       41         55           46           13   218.372   \n",
       "1               36       38         82           24          327    65.945   \n",
       "2               76       66         16           85           34   161.927   \n",
       "3               37       80         32           29            2   351.399   \n",
       "4               64       79         35            7            1   320.280   \n",
       "\n",
       "   Area  Pop1831  \n",
       "0  5762   346.03  \n",
       "1  7369   513.00  \n",
       "2  7340   298.26  \n",
       "3  6925   155.90  \n",
       "4  5549   129.10  \n",
       "\n",
       "[5 rows x 23 columns]"
      ]
     },
     "execution_count": 3,
     "metadata": {},
     "output_type": "execute_result"
    }
   ],
   "source": [
    "df = sm.datasets.get_rdataset(\"Guerry\", \"HistData\").data\n",
    "df.head()"
   ]
  },
  {
   "cell_type": "code",
   "execution_count": 4,
   "id": "2ccf1d66",
   "metadata": {},
   "outputs": [
    {
     "data": {
      "application/vnd.microsoft.datawrangler.viewer.v0+json": {
       "columns": [
        {
         "name": "index",
         "rawType": "int64",
         "type": "integer"
        },
        {
         "name": "Department",
         "rawType": "object",
         "type": "string"
        },
        {
         "name": "Lottery",
         "rawType": "int64",
         "type": "integer"
        },
        {
         "name": "Literacy",
         "rawType": "int64",
         "type": "integer"
        },
        {
         "name": "Wealth",
         "rawType": "int64",
         "type": "integer"
        },
        {
         "name": "Region",
         "rawType": "object",
         "type": "unknown"
        }
       ],
       "conversionMethod": "pd.DataFrame",
       "ref": "4995f080-a788-42e8-b711-ccc7db905557",
       "rows": [
        [
         "81",
         "Vienne",
         "40",
         "25",
         "68",
         "W"
        ],
        [
         "82",
         "Haute-Vienne",
         "55",
         "13",
         "67",
         "C"
        ],
        [
         "83",
         "Vosges",
         "14",
         "62",
         "82",
         "E"
        ],
        [
         "84",
         "Yonne",
         "51",
         "47",
         "30",
         "C"
        ],
        [
         "85",
         "Corse",
         "83",
         "49",
         "37",
         null
        ]
       ],
       "shape": {
        "columns": 5,
        "rows": 5
       }
      },
      "text/html": [
       "<div>\n",
       "<style scoped>\n",
       "    .dataframe tbody tr th:only-of-type {\n",
       "        vertical-align: middle;\n",
       "    }\n",
       "\n",
       "    .dataframe tbody tr th {\n",
       "        vertical-align: top;\n",
       "    }\n",
       "\n",
       "    .dataframe thead th {\n",
       "        text-align: right;\n",
       "    }\n",
       "</style>\n",
       "<table border=\"1\" class=\"dataframe\">\n",
       "  <thead>\n",
       "    <tr style=\"text-align: right;\">\n",
       "      <th></th>\n",
       "      <th>Department</th>\n",
       "      <th>Lottery</th>\n",
       "      <th>Literacy</th>\n",
       "      <th>Wealth</th>\n",
       "      <th>Region</th>\n",
       "    </tr>\n",
       "  </thead>\n",
       "  <tbody>\n",
       "    <tr>\n",
       "      <th>81</th>\n",
       "      <td>Vienne</td>\n",
       "      <td>40</td>\n",
       "      <td>25</td>\n",
       "      <td>68</td>\n",
       "      <td>W</td>\n",
       "    </tr>\n",
       "    <tr>\n",
       "      <th>82</th>\n",
       "      <td>Haute-Vienne</td>\n",
       "      <td>55</td>\n",
       "      <td>13</td>\n",
       "      <td>67</td>\n",
       "      <td>C</td>\n",
       "    </tr>\n",
       "    <tr>\n",
       "      <th>83</th>\n",
       "      <td>Vosges</td>\n",
       "      <td>14</td>\n",
       "      <td>62</td>\n",
       "      <td>82</td>\n",
       "      <td>E</td>\n",
       "    </tr>\n",
       "    <tr>\n",
       "      <th>84</th>\n",
       "      <td>Yonne</td>\n",
       "      <td>51</td>\n",
       "      <td>47</td>\n",
       "      <td>30</td>\n",
       "      <td>C</td>\n",
       "    </tr>\n",
       "    <tr>\n",
       "      <th>85</th>\n",
       "      <td>Corse</td>\n",
       "      <td>83</td>\n",
       "      <td>49</td>\n",
       "      <td>37</td>\n",
       "      <td>NaN</td>\n",
       "    </tr>\n",
       "  </tbody>\n",
       "</table>\n",
       "</div>"
      ],
      "text/plain": [
       "      Department  Lottery  Literacy  Wealth Region\n",
       "81        Vienne       40        25      68      W\n",
       "82  Haute-Vienne       55        13      67      C\n",
       "83        Vosges       14        62      82      E\n",
       "84         Yonne       51        47      30      C\n",
       "85         Corse       83        49      37    NaN"
      ]
     },
     "execution_count": 4,
     "metadata": {},
     "output_type": "execute_result"
    }
   ],
   "source": [
    "vars = ['Department', 'Lottery', 'Literacy', 'Wealth', 'Region']\n",
    "df = df[vars]\n",
    "df[-5:]"
   ]
  },
  {
   "cell_type": "markdown",
   "id": "44133ea1",
   "metadata": {},
   "source": [
    "## Preprocess\n",
    "\n",
    "Before fitting our model, we need to ensure the data is clean. The following step drops any rows with missing values (NaN) to ensure our model receives complete data points only."
   ]
  },
  {
   "cell_type": "code",
   "execution_count": 27,
   "id": "20c77068",
   "metadata": {},
   "outputs": [
    {
     "data": {
      "application/vnd.microsoft.datawrangler.viewer.v0+json": {
       "columns": [
        {
         "name": "index",
         "rawType": "int64",
         "type": "integer"
        },
        {
         "name": "Department",
         "rawType": "object",
         "type": "string"
        },
        {
         "name": "Lottery",
         "rawType": "int64",
         "type": "integer"
        },
        {
         "name": "Literacy",
         "rawType": "int64",
         "type": "integer"
        },
        {
         "name": "Wealth",
         "rawType": "int64",
         "type": "integer"
        },
        {
         "name": "Region",
         "rawType": "object",
         "type": "string"
        }
       ],
       "conversionMethod": "pd.DataFrame",
       "ref": "96a15c47-ba5c-48a3-94f8-45e270909837",
       "rows": [
        [
         "0",
         "Ain",
         "41",
         "37",
         "73",
         "E"
        ],
        [
         "1",
         "Aisne",
         "38",
         "51",
         "22",
         "N"
        ],
        [
         "2",
         "Allier",
         "66",
         "13",
         "61",
         "C"
        ],
        [
         "3",
         "Basses-Alpes",
         "80",
         "46",
         "76",
         "E"
        ],
        [
         "4",
         "Hautes-Alpes",
         "79",
         "69",
         "83",
         "E"
        ]
       ],
       "shape": {
        "columns": 5,
        "rows": 5
       }
      },
      "text/html": [
       "<div>\n",
       "<style scoped>\n",
       "    .dataframe tbody tr th:only-of-type {\n",
       "        vertical-align: middle;\n",
       "    }\n",
       "\n",
       "    .dataframe tbody tr th {\n",
       "        vertical-align: top;\n",
       "    }\n",
       "\n",
       "    .dataframe thead th {\n",
       "        text-align: right;\n",
       "    }\n",
       "</style>\n",
       "<table border=\"1\" class=\"dataframe\">\n",
       "  <thead>\n",
       "    <tr style=\"text-align: right;\">\n",
       "      <th></th>\n",
       "      <th>Department</th>\n",
       "      <th>Lottery</th>\n",
       "      <th>Literacy</th>\n",
       "      <th>Wealth</th>\n",
       "      <th>Region</th>\n",
       "    </tr>\n",
       "  </thead>\n",
       "  <tbody>\n",
       "    <tr>\n",
       "      <th>0</th>\n",
       "      <td>Ain</td>\n",
       "      <td>41</td>\n",
       "      <td>37</td>\n",
       "      <td>73</td>\n",
       "      <td>E</td>\n",
       "    </tr>\n",
       "    <tr>\n",
       "      <th>1</th>\n",
       "      <td>Aisne</td>\n",
       "      <td>38</td>\n",
       "      <td>51</td>\n",
       "      <td>22</td>\n",
       "      <td>N</td>\n",
       "    </tr>\n",
       "    <tr>\n",
       "      <th>2</th>\n",
       "      <td>Allier</td>\n",
       "      <td>66</td>\n",
       "      <td>13</td>\n",
       "      <td>61</td>\n",
       "      <td>C</td>\n",
       "    </tr>\n",
       "    <tr>\n",
       "      <th>3</th>\n",
       "      <td>Basses-Alpes</td>\n",
       "      <td>80</td>\n",
       "      <td>46</td>\n",
       "      <td>76</td>\n",
       "      <td>E</td>\n",
       "    </tr>\n",
       "    <tr>\n",
       "      <th>4</th>\n",
       "      <td>Hautes-Alpes</td>\n",
       "      <td>79</td>\n",
       "      <td>69</td>\n",
       "      <td>83</td>\n",
       "      <td>E</td>\n",
       "    </tr>\n",
       "  </tbody>\n",
       "</table>\n",
       "</div>"
      ],
      "text/plain": [
       "     Department  Lottery  Literacy  Wealth Region\n",
       "0           Ain       41        37      73      E\n",
       "1         Aisne       38        51      22      N\n",
       "2        Allier       66        13      61      C\n",
       "3  Basses-Alpes       80        46      76      E\n",
       "4  Hautes-Alpes       79        69      83      E"
      ]
     },
     "execution_count": 27,
     "metadata": {},
     "output_type": "execute_result"
    }
   ],
   "source": [
    "df = df.dropna()\n",
    "df.head()"
   ]
  },
  {
   "cell_type": "markdown",
   "id": "93f4f992",
   "metadata": {},
   "source": [
    "## Formula Interface and Design Matrices\n",
    "\n",
    "StatsModels supports a formula interface similar to R, using the Patsy library to specify models. This approach allows for a more intuitive specification of regression models.\n",
    "\n",
    "The `dmatrices` function creates design matrices from a formula string:\n",
    "\n",
    "- Left side of `~` specifies the dependent variable (y)\n",
    "- Right side specifies the independent variables (X)\n",
    "- Categorical variables (like Region) are automatically converted to dummy variables\n",
    "- An intercept term is included by default\n",
    "\n",
    "In our model, we're trying to predict `Lottery` (per capita lottery wagers) based on `Literacy`, `Wealth`, and `Region`."
   ]
  },
  {
   "cell_type": "code",
   "execution_count": 28,
   "id": "efd180aa",
   "metadata": {},
   "outputs": [],
   "source": [
    "y, X = dmatrices('Lottery ~ Literacy + Wealth + Region', data=df, return_type='dataframe')"
   ]
  },
  {
   "cell_type": "code",
   "execution_count": 29,
   "id": "5f1ffcbf",
   "metadata": {},
   "outputs": [
    {
     "data": {
      "application/vnd.microsoft.datawrangler.viewer.v0+json": {
       "columns": [
        {
         "name": "index",
         "rawType": "int64",
         "type": "integer"
        },
        {
         "name": "Lottery",
         "rawType": "float64",
         "type": "float"
        }
       ],
       "conversionMethod": "pd.DataFrame",
       "ref": "48e46829-4c6c-4070-88e7-5aafab8e2265",
       "rows": [
        [
         "0",
         "41.0"
        ],
        [
         "1",
         "38.0"
        ],
        [
         "2",
         "66.0"
        ]
       ],
       "shape": {
        "columns": 1,
        "rows": 3
       }
      },
      "text/html": [
       "<div>\n",
       "<style scoped>\n",
       "    .dataframe tbody tr th:only-of-type {\n",
       "        vertical-align: middle;\n",
       "    }\n",
       "\n",
       "    .dataframe tbody tr th {\n",
       "        vertical-align: top;\n",
       "    }\n",
       "\n",
       "    .dataframe thead th {\n",
       "        text-align: right;\n",
       "    }\n",
       "</style>\n",
       "<table border=\"1\" class=\"dataframe\">\n",
       "  <thead>\n",
       "    <tr style=\"text-align: right;\">\n",
       "      <th></th>\n",
       "      <th>Lottery</th>\n",
       "    </tr>\n",
       "  </thead>\n",
       "  <tbody>\n",
       "    <tr>\n",
       "      <th>0</th>\n",
       "      <td>41.0</td>\n",
       "    </tr>\n",
       "    <tr>\n",
       "      <th>1</th>\n",
       "      <td>38.0</td>\n",
       "    </tr>\n",
       "    <tr>\n",
       "      <th>2</th>\n",
       "      <td>66.0</td>\n",
       "    </tr>\n",
       "  </tbody>\n",
       "</table>\n",
       "</div>"
      ],
      "text/plain": [
       "   Lottery\n",
       "0     41.0\n",
       "1     38.0\n",
       "2     66.0"
      ]
     },
     "execution_count": 29,
     "metadata": {},
     "output_type": "execute_result"
    }
   ],
   "source": [
    "y[:3]"
   ]
  },
  {
   "cell_type": "code",
   "execution_count": 30,
   "id": "ed30ab38",
   "metadata": {},
   "outputs": [
    {
     "data": {
      "application/vnd.microsoft.datawrangler.viewer.v0+json": {
       "columns": [
        {
         "name": "index",
         "rawType": "int64",
         "type": "integer"
        },
        {
         "name": "Intercept",
         "rawType": "float64",
         "type": "float"
        },
        {
         "name": "Region[T.E]",
         "rawType": "float64",
         "type": "float"
        },
        {
         "name": "Region[T.N]",
         "rawType": "float64",
         "type": "float"
        },
        {
         "name": "Region[T.S]",
         "rawType": "float64",
         "type": "float"
        },
        {
         "name": "Region[T.W]",
         "rawType": "float64",
         "type": "float"
        },
        {
         "name": "Literacy",
         "rawType": "float64",
         "type": "float"
        },
        {
         "name": "Wealth",
         "rawType": "float64",
         "type": "float"
        }
       ],
       "conversionMethod": "pd.DataFrame",
       "ref": "796cf5dc-ab8f-4dcc-81c1-cf9af8ac9869",
       "rows": [
        [
         "0",
         "1.0",
         "1.0",
         "0.0",
         "0.0",
         "0.0",
         "37.0",
         "73.0"
        ],
        [
         "1",
         "1.0",
         "0.0",
         "1.0",
         "0.0",
         "0.0",
         "51.0",
         "22.0"
        ],
        [
         "2",
         "1.0",
         "0.0",
         "0.0",
         "0.0",
         "0.0",
         "13.0",
         "61.0"
        ]
       ],
       "shape": {
        "columns": 7,
        "rows": 3
       }
      },
      "text/html": [
       "<div>\n",
       "<style scoped>\n",
       "    .dataframe tbody tr th:only-of-type {\n",
       "        vertical-align: middle;\n",
       "    }\n",
       "\n",
       "    .dataframe tbody tr th {\n",
       "        vertical-align: top;\n",
       "    }\n",
       "\n",
       "    .dataframe thead th {\n",
       "        text-align: right;\n",
       "    }\n",
       "</style>\n",
       "<table border=\"1\" class=\"dataframe\">\n",
       "  <thead>\n",
       "    <tr style=\"text-align: right;\">\n",
       "      <th></th>\n",
       "      <th>Intercept</th>\n",
       "      <th>Region[T.E]</th>\n",
       "      <th>Region[T.N]</th>\n",
       "      <th>Region[T.S]</th>\n",
       "      <th>Region[T.W]</th>\n",
       "      <th>Literacy</th>\n",
       "      <th>Wealth</th>\n",
       "    </tr>\n",
       "  </thead>\n",
       "  <tbody>\n",
       "    <tr>\n",
       "      <th>0</th>\n",
       "      <td>1.0</td>\n",
       "      <td>1.0</td>\n",
       "      <td>0.0</td>\n",
       "      <td>0.0</td>\n",
       "      <td>0.0</td>\n",
       "      <td>37.0</td>\n",
       "      <td>73.0</td>\n",
       "    </tr>\n",
       "    <tr>\n",
       "      <th>1</th>\n",
       "      <td>1.0</td>\n",
       "      <td>0.0</td>\n",
       "      <td>1.0</td>\n",
       "      <td>0.0</td>\n",
       "      <td>0.0</td>\n",
       "      <td>51.0</td>\n",
       "      <td>22.0</td>\n",
       "    </tr>\n",
       "    <tr>\n",
       "      <th>2</th>\n",
       "      <td>1.0</td>\n",
       "      <td>0.0</td>\n",
       "      <td>0.0</td>\n",
       "      <td>0.0</td>\n",
       "      <td>0.0</td>\n",
       "      <td>13.0</td>\n",
       "      <td>61.0</td>\n",
       "    </tr>\n",
       "  </tbody>\n",
       "</table>\n",
       "</div>"
      ],
      "text/plain": [
       "   Intercept  Region[T.E]  Region[T.N]  Region[T.S]  Region[T.W]  Literacy  \\\n",
       "0        1.0          1.0          0.0          0.0          0.0      37.0   \n",
       "1        1.0          0.0          1.0          0.0          0.0      51.0   \n",
       "2        1.0          0.0          0.0          0.0          0.0      13.0   \n",
       "\n",
       "   Wealth  \n",
       "0    73.0  \n",
       "1    22.0  \n",
       "2    61.0  "
      ]
     },
     "execution_count": 30,
     "metadata": {},
     "output_type": "execute_result"
    }
   ],
   "source": [
    "X[:3]"
   ]
  },
  {
   "cell_type": "markdown",
   "id": "a7fe3ce5",
   "metadata": {},
   "source": [
    "## Model Fitting and Summary\n",
    "\n",
    "Now that we have our design matrices, we can fit an Ordinary Least Squares (OLS) regression model. The process involves two steps:\n",
    "\n",
    "1. Create a model specification using `sm.OLS()`\n",
    "2. Fit the model to the data using `.fit()`\n",
    "\n",
    "The resulting model object contains parameter estimates and various statistics that help evaluate the model's performance."
   ]
  },
  {
   "cell_type": "code",
   "execution_count": 31,
   "id": "627d272a",
   "metadata": {},
   "outputs": [
    {
     "data": {
      "text/plain": [
       "<statsmodels.regression.linear_model.OLS at 0x169d07c20>"
      ]
     },
     "execution_count": 31,
     "metadata": {},
     "output_type": "execute_result"
    }
   ],
   "source": [
    "mod = sm.OLS(y, X)    # Describe model\n",
    "mod"
   ]
  },
  {
   "cell_type": "code",
   "execution_count": 33,
   "id": "24f72d17",
   "metadata": {},
   "outputs": [
    {
     "data": {
      "text/plain": [
       "<statsmodels.regression.linear_model.RegressionResultsWrapper at 0x169dd2ae0>"
      ]
     },
     "execution_count": 33,
     "metadata": {},
     "output_type": "execute_result"
    }
   ],
   "source": [
    "res = mod.fit()       # Fit model\n",
    "res"
   ]
  },
  {
   "cell_type": "markdown",
   "id": "3d0ae793",
   "metadata": {},
   "source": [
    "### Summary Results\n",
    "\n",
    "The summary output provides comprehensive statistics about the model:\n",
    "\n",
    "- **Coefficient estimates**: The estimated effect of each predictor on the response variable\n",
    "- **Standard errors**: Measure of the statistical precision of the coefficient estimates\n",
    "- **t-statistics and p-values**: Used to test the null hypothesis that a coefficient is zero\n",
    "- **R-squared**: Proportion of variance in the dependent variable explained by the model\n",
    "- **Adjusted R-squared**: R-squared adjusted for the number of predictors\n",
    "- **F-statistic**: Tests the overall significance of the regression\n",
    "- **AIC/BIC**: Information criteria for model comparison\n",
    "\n",
    "StatsModels provides two summary methods: `summary()` and `summary2()`, each with slightly different presentation formats."
   ]
  },
  {
   "cell_type": "code",
   "execution_count": 34,
   "id": "c5915987",
   "metadata": {},
   "outputs": [
    {
     "data": {
      "text/html": [
       "<table class=\"simpletable\">\n",
       "<caption>OLS Regression Results</caption>\n",
       "<tr>\n",
       "  <th>Dep. Variable:</th>         <td>Lottery</td>     <th>  R-squared:         </th> <td>   0.338</td>\n",
       "</tr>\n",
       "<tr>\n",
       "  <th>Model:</th>                   <td>OLS</td>       <th>  Adj. R-squared:    </th> <td>   0.287</td>\n",
       "</tr>\n",
       "<tr>\n",
       "  <th>Method:</th>             <td>Least Squares</td>  <th>  F-statistic:       </th> <td>   6.636</td>\n",
       "</tr>\n",
       "<tr>\n",
       "  <th>Date:</th>             <td>Fri, 18 Apr 2025</td> <th>  Prob (F-statistic):</th> <td>1.07e-05</td>\n",
       "</tr>\n",
       "<tr>\n",
       "  <th>Time:</th>                 <td>21:01:25</td>     <th>  Log-Likelihood:    </th> <td> -375.30</td>\n",
       "</tr>\n",
       "<tr>\n",
       "  <th>No. Observations:</th>      <td>    85</td>      <th>  AIC:               </th> <td>   764.6</td>\n",
       "</tr>\n",
       "<tr>\n",
       "  <th>Df Residuals:</th>          <td>    78</td>      <th>  BIC:               </th> <td>   781.7</td>\n",
       "</tr>\n",
       "<tr>\n",
       "  <th>Df Model:</th>              <td>     6</td>      <th>                     </th>     <td> </td>   \n",
       "</tr>\n",
       "<tr>\n",
       "  <th>Covariance Type:</th>      <td>nonrobust</td>    <th>                     </th>     <td> </td>   \n",
       "</tr>\n",
       "</table>\n",
       "<table class=\"simpletable\">\n",
       "<tr>\n",
       "       <td></td>          <th>coef</th>     <th>std err</th>      <th>t</th>      <th>P>|t|</th>  <th>[0.025</th>    <th>0.975]</th>  \n",
       "</tr>\n",
       "<tr>\n",
       "  <th>Intercept</th>   <td>   38.6517</td> <td>    9.456</td> <td>    4.087</td> <td> 0.000</td> <td>   19.826</td> <td>   57.478</td>\n",
       "</tr>\n",
       "<tr>\n",
       "  <th>Region[T.E]</th> <td>  -15.4278</td> <td>    9.727</td> <td>   -1.586</td> <td> 0.117</td> <td>  -34.793</td> <td>    3.938</td>\n",
       "</tr>\n",
       "<tr>\n",
       "  <th>Region[T.N]</th> <td>  -10.0170</td> <td>    9.260</td> <td>   -1.082</td> <td> 0.283</td> <td>  -28.453</td> <td>    8.419</td>\n",
       "</tr>\n",
       "<tr>\n",
       "  <th>Region[T.S]</th> <td>   -4.5483</td> <td>    7.279</td> <td>   -0.625</td> <td> 0.534</td> <td>  -19.039</td> <td>    9.943</td>\n",
       "</tr>\n",
       "<tr>\n",
       "  <th>Region[T.W]</th> <td>  -10.0913</td> <td>    7.196</td> <td>   -1.402</td> <td> 0.165</td> <td>  -24.418</td> <td>    4.235</td>\n",
       "</tr>\n",
       "<tr>\n",
       "  <th>Literacy</th>    <td>   -0.1858</td> <td>    0.210</td> <td>   -0.886</td> <td> 0.378</td> <td>   -0.603</td> <td>    0.232</td>\n",
       "</tr>\n",
       "<tr>\n",
       "  <th>Wealth</th>      <td>    0.4515</td> <td>    0.103</td> <td>    4.390</td> <td> 0.000</td> <td>    0.247</td> <td>    0.656</td>\n",
       "</tr>\n",
       "</table>\n",
       "<table class=\"simpletable\">\n",
       "<tr>\n",
       "  <th>Omnibus:</th>       <td> 3.049</td> <th>  Durbin-Watson:     </th> <td>   1.785</td>\n",
       "</tr>\n",
       "<tr>\n",
       "  <th>Prob(Omnibus):</th> <td> 0.218</td> <th>  Jarque-Bera (JB):  </th> <td>   2.694</td>\n",
       "</tr>\n",
       "<tr>\n",
       "  <th>Skew:</th>          <td>-0.340</td> <th>  Prob(JB):          </th> <td>   0.260</td>\n",
       "</tr>\n",
       "<tr>\n",
       "  <th>Kurtosis:</th>      <td> 2.454</td> <th>  Cond. No.          </th> <td>    371.</td>\n",
       "</tr>\n",
       "</table><br/><br/>Notes:<br/>[1] Standard Errors assume that the covariance matrix of the errors is correctly specified."
      ],
      "text/latex": [
       "\\begin{center}\n",
       "\\begin{tabular}{lclc}\n",
       "\\toprule\n",
       "\\textbf{Dep. Variable:}    &     Lottery      & \\textbf{  R-squared:         } &     0.338   \\\\\n",
       "\\textbf{Model:}            &       OLS        & \\textbf{  Adj. R-squared:    } &     0.287   \\\\\n",
       "\\textbf{Method:}           &  Least Squares   & \\textbf{  F-statistic:       } &     6.636   \\\\\n",
       "\\textbf{Date:}             & Fri, 18 Apr 2025 & \\textbf{  Prob (F-statistic):} &  1.07e-05   \\\\\n",
       "\\textbf{Time:}             &     21:01:25     & \\textbf{  Log-Likelihood:    } &   -375.30   \\\\\n",
       "\\textbf{No. Observations:} &          85      & \\textbf{  AIC:               } &     764.6   \\\\\n",
       "\\textbf{Df Residuals:}     &          78      & \\textbf{  BIC:               } &     781.7   \\\\\n",
       "\\textbf{Df Model:}         &           6      & \\textbf{                     } &             \\\\\n",
       "\\textbf{Covariance Type:}  &    nonrobust     & \\textbf{                     } &             \\\\\n",
       "\\bottomrule\n",
       "\\end{tabular}\n",
       "\\begin{tabular}{lcccccc}\n",
       "                     & \\textbf{coef} & \\textbf{std err} & \\textbf{t} & \\textbf{P$> |$t$|$} & \\textbf{[0.025} & \\textbf{0.975]}  \\\\\n",
       "\\midrule\n",
       "\\textbf{Intercept}   &      38.6517  &        9.456     &     4.087  &         0.000        &       19.826    &       57.478     \\\\\n",
       "\\textbf{Region[T.E]} &     -15.4278  &        9.727     &    -1.586  &         0.117        &      -34.793    &        3.938     \\\\\n",
       "\\textbf{Region[T.N]} &     -10.0170  &        9.260     &    -1.082  &         0.283        &      -28.453    &        8.419     \\\\\n",
       "\\textbf{Region[T.S]} &      -4.5483  &        7.279     &    -0.625  &         0.534        &      -19.039    &        9.943     \\\\\n",
       "\\textbf{Region[T.W]} &     -10.0913  &        7.196     &    -1.402  &         0.165        &      -24.418    &        4.235     \\\\\n",
       "\\textbf{Literacy}    &      -0.1858  &        0.210     &    -0.886  &         0.378        &       -0.603    &        0.232     \\\\\n",
       "\\textbf{Wealth}      &       0.4515  &        0.103     &     4.390  &         0.000        &        0.247    &        0.656     \\\\\n",
       "\\bottomrule\n",
       "\\end{tabular}\n",
       "\\begin{tabular}{lclc}\n",
       "\\textbf{Omnibus:}       &  3.049 & \\textbf{  Durbin-Watson:     } &    1.785  \\\\\n",
       "\\textbf{Prob(Omnibus):} &  0.218 & \\textbf{  Jarque-Bera (JB):  } &    2.694  \\\\\n",
       "\\textbf{Skew:}          & -0.340 & \\textbf{  Prob(JB):          } &    0.260  \\\\\n",
       "\\textbf{Kurtosis:}      &  2.454 & \\textbf{  Cond. No.          } &     371.  \\\\\n",
       "\\bottomrule\n",
       "\\end{tabular}\n",
       "%\\caption{OLS Regression Results}\n",
       "\\end{center}\n",
       "\n",
       "Notes: \\newline\n",
       " [1] Standard Errors assume that the covariance matrix of the errors is correctly specified."
      ],
      "text/plain": [
       "<class 'statsmodels.iolib.summary.Summary'>\n",
       "\"\"\"\n",
       "                            OLS Regression Results                            \n",
       "==============================================================================\n",
       "Dep. Variable:                Lottery   R-squared:                       0.338\n",
       "Model:                            OLS   Adj. R-squared:                  0.287\n",
       "Method:                 Least Squares   F-statistic:                     6.636\n",
       "Date:                Fri, 18 Apr 2025   Prob (F-statistic):           1.07e-05\n",
       "Time:                        21:01:25   Log-Likelihood:                -375.30\n",
       "No. Observations:                  85   AIC:                             764.6\n",
       "Df Residuals:                      78   BIC:                             781.7\n",
       "Df Model:                           6                                         \n",
       "Covariance Type:            nonrobust                                         \n",
       "===============================================================================\n",
       "                  coef    std err          t      P>|t|      [0.025      0.975]\n",
       "-------------------------------------------------------------------------------\n",
       "Intercept      38.6517      9.456      4.087      0.000      19.826      57.478\n",
       "Region[T.E]   -15.4278      9.727     -1.586      0.117     -34.793       3.938\n",
       "Region[T.N]   -10.0170      9.260     -1.082      0.283     -28.453       8.419\n",
       "Region[T.S]    -4.5483      7.279     -0.625      0.534     -19.039       9.943\n",
       "Region[T.W]   -10.0913      7.196     -1.402      0.165     -24.418       4.235\n",
       "Literacy       -0.1858      0.210     -0.886      0.378      -0.603       0.232\n",
       "Wealth          0.4515      0.103      4.390      0.000       0.247       0.656\n",
       "==============================================================================\n",
       "Omnibus:                        3.049   Durbin-Watson:                   1.785\n",
       "Prob(Omnibus):                  0.218   Jarque-Bera (JB):                2.694\n",
       "Skew:                          -0.340   Prob(JB):                        0.260\n",
       "Kurtosis:                       2.454   Cond. No.                         371.\n",
       "==============================================================================\n",
       "\n",
       "Notes:\n",
       "[1] Standard Errors assume that the covariance matrix of the errors is correctly specified.\n",
       "\"\"\""
      ]
     },
     "execution_count": 34,
     "metadata": {},
     "output_type": "execute_result"
    }
   ],
   "source": [
    "res.summary()"
   ]
  },
  {
   "cell_type": "code",
   "execution_count": 35,
   "id": "ffa99e5a",
   "metadata": {},
   "outputs": [
    {
     "data": {
      "text/html": [
       "<table class=\"simpletable\">\n",
       "<tr>\n",
       "        <td>Model:</td>               <td>OLS</td>         <td>Adj. R-squared:</td>     <td>0.287</td> \n",
       "</tr>\n",
       "<tr>\n",
       "  <td>Dependent Variable:</td>      <td>Lottery</td>            <td>AIC:</td>         <td>764.5986</td>\n",
       "</tr>\n",
       "<tr>\n",
       "         <td>Date:</td>        <td>2025-04-18 21:01</td>        <td>BIC:</td>         <td>781.6971</td>\n",
       "</tr>\n",
       "<tr>\n",
       "   <td>No. Observations:</td>         <td>85</td>          <td>Log-Likelihood:</td>    <td>-375.30</td>\n",
       "</tr>\n",
       "<tr>\n",
       "       <td>Df Model:</td>              <td>6</td>           <td>F-statistic:</td>       <td>6.636</td> \n",
       "</tr>\n",
       "<tr>\n",
       "     <td>Df Residuals:</td>           <td>78</td>        <td>Prob (F-statistic):</td> <td>1.07e-05</td>\n",
       "</tr>\n",
       "<tr>\n",
       "      <td>R-squared:</td>            <td>0.338</td>            <td>Scale:</td>         <td>436.43</td> \n",
       "</tr>\n",
       "</table>\n",
       "<table class=\"simpletable\">\n",
       "<tr>\n",
       "       <td></td>         <th>Coef.</th>  <th>Std.Err.</th>    <th>t</th>     <th>P>|t|</th>  <th>[0.025</th>  <th>0.975]</th> \n",
       "</tr>\n",
       "<tr>\n",
       "  <th>Intercept</th>    <td>38.6517</td>  <td>9.4563</td>  <td>4.0874</td>  <td>0.0001</td>  <td>19.8255</td> <td>57.4778</td>\n",
       "</tr>\n",
       "<tr>\n",
       "  <th>Region[T.E]</th> <td>-15.4278</td>  <td>9.7273</td>  <td>-1.5860</td> <td>0.1168</td> <td>-34.7934</td> <td>3.9378</td> \n",
       "</tr>\n",
       "<tr>\n",
       "  <th>Region[T.N]</th> <td>-10.0170</td>  <td>9.2603</td>  <td>-1.0817</td> <td>0.2827</td> <td>-28.4528</td> <td>8.4188</td> \n",
       "</tr>\n",
       "<tr>\n",
       "  <th>Region[T.S]</th>  <td>-4.5483</td>  <td>7.2789</td>  <td>-0.6249</td> <td>0.5339</td> <td>-19.0394</td> <td>9.9429</td> \n",
       "</tr>\n",
       "<tr>\n",
       "  <th>Region[T.W]</th> <td>-10.0913</td>  <td>7.1961</td>  <td>-1.4023</td> <td>0.1648</td> <td>-24.4176</td> <td>4.2351</td> \n",
       "</tr>\n",
       "<tr>\n",
       "  <th>Literacy</th>     <td>-0.1858</td>  <td>0.2098</td>  <td>-0.8857</td> <td>0.3785</td>  <td>-0.6035</td> <td>0.2319</td> \n",
       "</tr>\n",
       "<tr>\n",
       "  <th>Wealth</th>       <td>0.4515</td>   <td>0.1028</td>  <td>4.3899</td>  <td>0.0000</td>  <td>0.2467</td>  <td>0.6562</td> \n",
       "</tr>\n",
       "</table>\n",
       "<table class=\"simpletable\">\n",
       "<tr>\n",
       "     <td>Omnibus:</td>     <td>3.049</td>  <td>Durbin-Watson:</td>   <td>1.785</td>\n",
       "</tr>\n",
       "<tr>\n",
       "  <td>Prob(Omnibus):</td>  <td>0.218</td> <td>Jarque-Bera (JB):</td> <td>2.694</td>\n",
       "</tr>\n",
       "<tr>\n",
       "       <td>Skew:</td>     <td>-0.340</td>     <td>Prob(JB):</td>     <td>0.260</td>\n",
       "</tr>\n",
       "<tr>\n",
       "     <td>Kurtosis:</td>    <td>2.454</td>  <td>Condition No.:</td>    <td>371</td> \n",
       "</tr>\n",
       "</table><br/>\n",
       "Notes:<br/>\n",
       "[1] Standard Errors assume that the covariance matrix of the errors is correctly specified."
      ],
      "text/latex": [
       "\\begin{table}\n",
       "\\caption{Results: Ordinary least squares}\n",
       "\\label{}\n",
       "\\begin{center}\n",
       "\\begin{tabular}{llll}\n",
       "\\hline\n",
       "Model:              & OLS              & Adj. R-squared:     & 0.287     \\\\\n",
       "Dependent Variable: & Lottery          & AIC:                & 764.5986  \\\\\n",
       "Date:               & 2025-04-18 21:01 & BIC:                & 781.6971  \\\\\n",
       "No. Observations:   & 85               & Log-Likelihood:     & -375.30   \\\\\n",
       "Df Model:           & 6                & F-statistic:        & 6.636     \\\\\n",
       "Df Residuals:       & 78               & Prob (F-statistic): & 1.07e-05  \\\\\n",
       "R-squared:          & 0.338            & Scale:              & 436.43    \\\\\n",
       "\\hline\n",
       "\\end{tabular}\n",
       "\\end{center}\n",
       "\n",
       "\\begin{center}\n",
       "\\begin{tabular}{lrrrrrr}\n",
       "\\hline\n",
       "            &    Coef. & Std.Err. &       t & P$> |$t$|$ &   [0.025 &  0.975]  \\\\\n",
       "\\hline\n",
       "Intercept   &  38.6517 &   9.4563 &  4.0874 &      0.0001 &  19.8255 & 57.4778  \\\\\n",
       "Region[T.E] & -15.4278 &   9.7273 & -1.5860 &      0.1168 & -34.7934 &  3.9378  \\\\\n",
       "Region[T.N] & -10.0170 &   9.2603 & -1.0817 &      0.2827 & -28.4528 &  8.4188  \\\\\n",
       "Region[T.S] &  -4.5483 &   7.2789 & -0.6249 &      0.5339 & -19.0394 &  9.9429  \\\\\n",
       "Region[T.W] & -10.0913 &   7.1961 & -1.4023 &      0.1648 & -24.4176 &  4.2351  \\\\\n",
       "Literacy    &  -0.1858 &   0.2098 & -0.8857 &      0.3785 &  -0.6035 &  0.2319  \\\\\n",
       "Wealth      &   0.4515 &   0.1028 &  4.3899 &      0.0000 &   0.2467 &  0.6562  \\\\\n",
       "\\hline\n",
       "\\end{tabular}\n",
       "\\end{center}\n",
       "\n",
       "\\begin{center}\n",
       "\\begin{tabular}{llll}\n",
       "\\hline\n",
       "Omnibus:       & 3.049  & Durbin-Watson:    & 1.785  \\\\\n",
       "Prob(Omnibus): & 0.218  & Jarque-Bera (JB): & 2.694  \\\\\n",
       "Skew:          & -0.340 & Prob(JB):         & 0.260  \\\\\n",
       "Kurtosis:      & 2.454  & Condition No.:    & 371    \\\\\n",
       "\\hline\n",
       "\\end{tabular}\n",
       "\\end{center}\n",
       "\\end{table}\n",
       "\\bigskip\n",
       "Notes: \\newline \n",
       "[1] Standard Errors assume that the covariance matrix of the errors is correctly specified."
      ],
      "text/plain": [
       "<class 'statsmodels.iolib.summary2.Summary'>\n",
       "\"\"\"\n",
       "                 Results: Ordinary least squares\n",
       "=================================================================\n",
       "Model:              OLS              Adj. R-squared:     0.287   \n",
       "Dependent Variable: Lottery          AIC:                764.5986\n",
       "Date:               2025-04-18 21:01 BIC:                781.6971\n",
       "No. Observations:   85               Log-Likelihood:     -375.30 \n",
       "Df Model:           6                F-statistic:        6.636   \n",
       "Df Residuals:       78               Prob (F-statistic): 1.07e-05\n",
       "R-squared:          0.338            Scale:              436.43  \n",
       "-----------------------------------------------------------------\n",
       "                 Coef.   Std.Err.    t    P>|t|   [0.025   0.975]\n",
       "-----------------------------------------------------------------\n",
       "Intercept        38.6517   9.4563  4.0874 0.0001  19.8255 57.4778\n",
       "Region[T.E]     -15.4278   9.7273 -1.5860 0.1168 -34.7934  3.9378\n",
       "Region[T.N]     -10.0170   9.2603 -1.0817 0.2827 -28.4528  8.4188\n",
       "Region[T.S]      -4.5483   7.2789 -0.6249 0.5339 -19.0394  9.9429\n",
       "Region[T.W]     -10.0913   7.1961 -1.4023 0.1648 -24.4176  4.2351\n",
       "Literacy         -0.1858   0.2098 -0.8857 0.3785  -0.6035  0.2319\n",
       "Wealth            0.4515   0.1028  4.3899 0.0000   0.2467  0.6562\n",
       "-----------------------------------------------------------------\n",
       "Omnibus:               3.049        Durbin-Watson:          1.785\n",
       "Prob(Omnibus):         0.218        Jarque-Bera (JB):       2.694\n",
       "Skew:                  -0.340       Prob(JB):               0.260\n",
       "Kurtosis:              2.454        Condition No.:          371  \n",
       "=================================================================\n",
       "Notes:\n",
       "[1] Standard Errors assume that the covariance matrix of the\n",
       "errors is correctly specified.\n",
       "\"\"\""
      ]
     },
     "execution_count": 35,
     "metadata": {},
     "output_type": "execute_result"
    }
   ],
   "source": [
    "res.summary2()"
   ]
  },
  {
   "cell_type": "markdown",
   "id": "2c8e0fff",
   "metadata": {},
   "source": [
    "### Extracting Model Parameters\n",
    "\n",
    "After fitting the model, we can extract specific statistics for further analysis or visualization:\n",
    "\n",
    "- `params`: Coefficient estimates for each predictor\n",
    "- `rsquared`: R-squared value (goodness of fit)\n",
    "- `bse`: Standard errors of the coefficient estimates\n",
    "- `pvalues`: p-values for the t-tests of the coefficients\n",
    "- `conf_int()`: Confidence intervals for the coefficients\n",
    "\n",
    "These attributes allow us to easily access specific pieces of information from the model results."
   ]
  },
  {
   "cell_type": "code",
   "execution_count": 36,
   "id": "ccf4a07a",
   "metadata": {},
   "outputs": [
    {
     "data": {
      "text/plain": [
       "Intercept      38.651655\n",
       "Region[T.E]   -15.427785\n",
       "Region[T.N]   -10.016961\n",
       "Region[T.S]    -4.548257\n",
       "Region[T.W]   -10.091276\n",
       "Literacy       -0.185819\n",
       "Wealth          0.451475\n",
       "dtype: float64"
      ]
     },
     "execution_count": 36,
     "metadata": {},
     "output_type": "execute_result"
    }
   ],
   "source": [
    "res.params"
   ]
  },
  {
   "cell_type": "code",
   "execution_count": 37,
   "id": "eaec8378",
   "metadata": {},
   "outputs": [
    {
     "data": {
      "text/plain": [
       "np.float64(0.337950869192882)"
      ]
     },
     "execution_count": 37,
     "metadata": {},
     "output_type": "execute_result"
    }
   ],
   "source": [
    "res.rsquared"
   ]
  },
  {
   "cell_type": "markdown",
   "id": "b99d89b8",
   "metadata": {},
   "source": [
    "## Model Interpretation\n",
    "\n",
    "When interpreting the regression results, consider the following:\n",
    "\n",
    "1. **Coefficients**: Each coefficient represents the average change in the dependent variable (Lottery) for a one-unit increase in the predictor, holding other predictors constant.\n",
    "\n",
    "2. **Statistical significance**: Look at p-values to determine if the relationship is statistically significant (typically p < 0.05).\n",
    "\n",
    "3. **Effect size**: Consider not just significance but the magnitude of coefficients.\n",
    "\n",
    "4. **Model fit**: The R-squared value indicates how much of the variation in lottery wagers is explained by our model.\n",
    "\n",
    "5. **Categorical variables**: For Region variables (e.g., Region[T.E]), the coefficient represents the difference in the response compared to the reference category (in this case, Region C - Central).\n",
    "\n",
    "In this model, we're investigating whether literacy rates, wealth, and geographic region can predict lottery participation rates in 19th century France."
   ]
  },
  {
   "cell_type": "markdown",
   "id": "cb3eb202",
   "metadata": {},
   "source": [
    "## Plots"
   ]
  },
  {
   "cell_type": "code",
   "execution_count": 38,
   "id": "b82e3848",
   "metadata": {},
   "outputs": [
    {
     "data": {
      "image/png": "[encoded data removed]",
      "text/plain": [
       "<Figure size 640x480 with 1 Axes>"
      ]
     },
     "execution_count": 38,
     "metadata": {},
     "output_type": "execute_result"
    },
    {
     "data": {
      "image/png": "[encoded data removed]",
      "text/plain": [
       "<Figure size 640x480 with 1 Axes>"
      ]
     },
     "metadata": {},
     "output_type": "display_data"
    }
   ],
   "source": [
    "sm.graphics.plot_partregress('Lottery', 'Wealth', ['Region', 'Literacy'],\n",
    "                             data=df, obs_labels=False)"
   ]
  },
  {
   "cell_type": "markdown",
   "id": "6f4e0108",
   "metadata": {},
   "source": [
    "## Additional Analysis\n",
    "\n",
    "For a more complete analysis, you might want to explore:\n",
    "\n",
    "1. **Residual analysis**: Check if the residuals follow a normal distribution and have constant variance\n",
    "2. **Outlier detection**: Identify influential observations that might be driving the results\n",
    "3. **Multicollinearity**: Assess if predictors are highly correlated, which can affect coefficient estimates\n",
    "4. **Model comparison**: Compare different model specifications to find the best fit\n",
    "5. **Predictions**: Use the model to make predictions on new data\n",
    "\n",
    "StatsModels provides tools for all these additional analyses."
   ]
  }
 ],
 "metadata": {
  "kernelspec": {
   "display_name": "ds-env",
   "language": "python",
   "name": "python3"
  },
  "language_info": {
   "codemirror_mode": {
    "name": "ipython",
    "version": 3
   },
   "file_extension": ".py",
   "mimetype": "text/x-python",
   "name": "python",
   "nbconvert_exporter": "python",
   "pygments_lexer": "ipython3",
   "version": "3.12.9"
  }
 },
 "nbformat": 4,
 "nbformat_minor": 5
}
