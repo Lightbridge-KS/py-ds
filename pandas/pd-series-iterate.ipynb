{
 "cells": [
  {
   "cell_type": "markdown",
   "metadata": {},
   "source": [
    "# PD: Series & Iteration"
   ]
  },
  {
   "cell_type": "code",
   "execution_count": 1,
   "metadata": {},
   "outputs": [],
   "source": [
    "import pandas as pd"
   ]
  },
  {
   "cell_type": "markdown",
   "metadata": {},
   "source": [
    "I'll show you examples of how pandas Series objects work with various Python sequence operations, which demonstrates their seamless integration with Python's standard library features. "
   ]
  },
  {
   "cell_type": "markdown",
   "metadata": {},
   "source": [
    "## Using Series with `enumerate()`\n",
    "\n",
    "The `enumerate()` function pairs each item in an iterable with its index position:"
   ]
  },
  {
   "cell_type": "code",
   "execution_count": 7,
   "metadata": {},
   "outputs": [],
   "source": [
    "import pandas as pd\n",
    "\n",
    "# Create a Series\n",
    "fruits = pd.Series(['apple', 'banana', 'cherry', 'date'])"
   ]
  },
  {
   "cell_type": "code",
   "execution_count": null,
   "metadata": {},
   "outputs": [
    {
     "name": "stdout",
     "output_type": "stream",
     "text": [
      "apple\n",
      "banana\n",
      "cherry\n",
      "date\n"
     ]
    }
   ],
   "source": [
    "# Loop on Values\n",
    "for fruit in fruits:\n",
    "    print(f\"{fruit}\")"
   ]
  },
  {
   "cell_type": "code",
   "execution_count": 9,
   "metadata": {},
   "outputs": [
    {
     "name": "stdout",
     "output_type": "stream",
     "text": [
      "Index 0: apple\n",
      "Index 1: banana\n",
      "Index 2: cherry\n",
      "Index 3: date\n"
     ]
    }
   ],
   "source": [
    "# Loop on Values and Keys\n",
    "for i, fruit in enumerate(fruits):\n",
    "    print(f\"Index {i}: {fruit}\")"
   ]
  },
  {
   "cell_type": "code",
   "execution_count": 11,
   "metadata": {},
   "outputs": [
    {
     "name": "stdout",
     "output_type": "stream",
     "text": [
      "{'fruit_0': 'apple', 'fruit_1': 'banana', 'fruit_2': 'cherry', 'fruit_3': 'date'}\n"
     ]
    }
   ],
   "source": [
    "# You can also create a dictionary with custom indices\n",
    "custom_indexed_fruits = {f\"fruit_{i}\": fruit for i, fruit in enumerate(fruits)}\n",
    "print(custom_indexed_fruits)"
   ]
  },
  {
   "cell_type": "markdown",
   "metadata": {},
   "source": [
    "## Using Series with `any()` and `all()`\n",
    "\n",
    "These functions check whether any or all elements in an iterable satisfy a condition:"
   ]
  },
  {
   "cell_type": "code",
   "execution_count": 12,
   "metadata": {},
   "outputs": [],
   "source": [
    "import pandas as pd\n",
    "\n",
    "# Create a Series of numbers\n",
    "numbers = pd.Series([2, 4, 6, 8, 9])"
   ]
  },
  {
   "cell_type": "code",
   "execution_count": 14,
   "metadata": {},
   "outputs": [
    {
     "data": {
      "text/plain": [
       "True"
      ]
     },
     "execution_count": 14,
     "metadata": {},
     "output_type": "execute_result"
    }
   ],
   "source": [
    "# Check if any number is odd using any()\n",
    "any(num % 2 == 1 for num in numbers)"
   ]
  },
  {
   "cell_type": "code",
   "execution_count": 15,
   "metadata": {},
   "outputs": [
    {
     "data": {
      "text/plain": [
       "False"
      ]
     },
     "execution_count": 15,
     "metadata": {},
     "output_type": "execute_result"
    }
   ],
   "source": [
    "# Check if all numbers are even using all()\n",
    "all_even = all(num % 2 == 0 for num in numbers)\n",
    "all_even"
   ]
  },
  {
   "cell_type": "code",
   "execution_count": 17,
   "metadata": {},
   "outputs": [
    {
     "name": "stdout",
     "output_type": "stream",
     "text": [
      "Any odd numbers (Series method)? True\n",
      "All even numbers (Series method)? False\n"
     ]
    }
   ],
   "source": [
    "# You can also use the built-in Series methods directly\n",
    "print(f\"Any odd numbers (Series method)? {(numbers % 2 == 1).any()}\")\n",
    "print(f\"All even numbers (Series method)? {(numbers % 2 == 0).all()}\")"
   ]
  },
  {
   "cell_type": "markdown",
   "metadata": {},
   "source": [
    "## Using Series with List Comprehensions\n",
    "\n",
    "List comprehensions work with Series just like with other iterables:"
   ]
  },
  {
   "cell_type": "code",
   "execution_count": 18,
   "metadata": {},
   "outputs": [
    {
     "name": "stdout",
     "output_type": "stream",
     "text": [
      "['$10.50', '$8.75', '$15.20', '$7.50', '$9.00']\n",
      "['$10.50', '$15.20']\n",
      "{'item_0': 'expensive', 'item_1': 'budget', 'item_2': 'expensive', 'item_3': 'budget', 'item_4': 'budget'}\n"
     ]
    }
   ],
   "source": [
    "import pandas as pd\n",
    "\n",
    "# Create a Series\n",
    "prices = pd.Series([10.5, 8.75, 15.20, 7.5, 9.0])\n",
    "\n",
    "# Basic list comprehension to create a new list\n",
    "formatted_prices = [f\"${price:.2f}\" for price in prices]\n",
    "print(formatted_prices)\n",
    "\n",
    "# List comprehension with conditions\n",
    "expensive_items = [f\"${price:.2f}\" for price in prices if price > 10]\n",
    "print(expensive_items)\n",
    "\n",
    "# Creating a dictionary with list comprehension\n",
    "price_categories = {f\"item_{i}\": \"expensive\" if price > 10 else \"budget\" \n",
    "                    for i, price in enumerate(prices)}\n",
    "print(price_categories)"
   ]
  },
  {
   "cell_type": "markdown",
   "metadata": {},
   "source": [
    "## Using Series in Dictionary Comprehensions"
   ]
  },
  {
   "cell_type": "code",
   "execution_count": 19,
   "metadata": {},
   "outputs": [
    {
     "name": "stdout",
     "output_type": "stream",
     "text": [
      "{'US': 'United States', 'CA': 'Canada', 'MX': 'Mexico', 'BR': 'Brazil'}\n",
      "{'US': {'name': 'United States', 'code_length': 2, 'name_length': 13}, 'CA': {'name': 'Canada', 'code_length': 2, 'name_length': 6}, 'MX': {'name': 'Mexico', 'code_length': 2, 'name_length': 6}, 'BR': {'name': 'Brazil', 'code_length': 2, 'name_length': 6}}\n"
     ]
    }
   ],
   "source": [
    "import pandas as pd\n",
    "\n",
    "# Create two Series for country codes and names\n",
    "codes = pd.Series(['US', 'CA', 'MX', 'BR'])\n",
    "names = pd.Series(['United States', 'Canada', 'Mexico', 'Brazil'])\n",
    "\n",
    "# Create a mapping dictionary\n",
    "country_map = {code: name for code, name in zip(codes, names)}\n",
    "print(country_map)\n",
    "\n",
    "# Create a dictionary with more complex transformations\n",
    "country_info = {code: {'name': name, 'code_length': len(code), 'name_length': len(name)} \n",
    "                for code, name in zip(codes, names)}\n",
    "print(country_info)"
   ]
  },
  {
   "cell_type": "markdown",
   "metadata": {},
   "source": [
    "## Practical Application: Dynamic Column Transformations"
   ]
  },
  {
   "cell_type": "code",
   "execution_count": 21,
   "metadata": {},
   "outputs": [
    {
     "data": {
      "application/vnd.microsoft.datawrangler.viewer.v0+json": {
       "columns": [
        {
         "name": "index",
         "rawType": "int64",
         "type": "integer"
        },
        {
         "name": "product",
         "rawType": "object",
         "type": "string"
        },
        {
         "name": "price",
         "rawType": "int64",
         "type": "integer"
        },
        {
         "name": "stock",
         "rawType": "int64",
         "type": "integer"
        },
        {
         "name": "price_formatted",
         "rawType": "object",
         "type": "string"
        },
        {
         "name": "stock_formatted",
         "rawType": "object",
         "type": "string"
        }
       ],
       "conversionMethod": "pd.DataFrame",
       "ref": "62377475-d9ef-4df7-bf38-3d2d951da195",
       "rows": [
        [
         "0",
         "Laptop",
         "1200",
         "5",
         "$1200.00",
         "5 units"
        ],
        [
         "1",
         "Phone",
         "800",
         "12",
         "$800.00",
         "12 units"
        ],
        [
         "2",
         "Tablet",
         "350",
         "8",
         "$350.00",
         "8 units"
        ],
        [
         "3",
         "Monitor",
         "250",
         "3",
         "$250.00",
         "3 units"
        ]
       ],
       "shape": {
        "columns": 5,
        "rows": 4
       }
      },
      "text/html": [
       "<div>\n",
       "<style scoped>\n",
       "    .dataframe tbody tr th:only-of-type {\n",
       "        vertical-align: middle;\n",
       "    }\n",
       "\n",
       "    .dataframe tbody tr th {\n",
       "        vertical-align: top;\n",
       "    }\n",
       "\n",
       "    .dataframe thead th {\n",
       "        text-align: right;\n",
       "    }\n",
       "</style>\n",
       "<table border=\"1\" class=\"dataframe\">\n",
       "  <thead>\n",
       "    <tr style=\"text-align: right;\">\n",
       "      <th></th>\n",
       "      <th>product</th>\n",
       "      <th>price</th>\n",
       "      <th>stock</th>\n",
       "      <th>price_formatted</th>\n",
       "      <th>stock_formatted</th>\n",
       "    </tr>\n",
       "  </thead>\n",
       "  <tbody>\n",
       "    <tr>\n",
       "      <th>0</th>\n",
       "      <td>Laptop</td>\n",
       "      <td>1200</td>\n",
       "      <td>5</td>\n",
       "      <td>$1200.00</td>\n",
       "      <td>5 units</td>\n",
       "    </tr>\n",
       "    <tr>\n",
       "      <th>1</th>\n",
       "      <td>Phone</td>\n",
       "      <td>800</td>\n",
       "      <td>12</td>\n",
       "      <td>$800.00</td>\n",
       "      <td>12 units</td>\n",
       "    </tr>\n",
       "    <tr>\n",
       "      <th>2</th>\n",
       "      <td>Tablet</td>\n",
       "      <td>350</td>\n",
       "      <td>8</td>\n",
       "      <td>$350.00</td>\n",
       "      <td>8 units</td>\n",
       "    </tr>\n",
       "    <tr>\n",
       "      <th>3</th>\n",
       "      <td>Monitor</td>\n",
       "      <td>250</td>\n",
       "      <td>3</td>\n",
       "      <td>$250.00</td>\n",
       "      <td>3 units</td>\n",
       "    </tr>\n",
       "  </tbody>\n",
       "</table>\n",
       "</div>"
      ],
      "text/plain": [
       "   product  price  stock price_formatted stock_formatted\n",
       "0   Laptop   1200      5        $1200.00         5 units\n",
       "1    Phone    800     12         $800.00        12 units\n",
       "2   Tablet    350      8         $350.00         8 units\n",
       "3  Monitor    250      3         $250.00         3 units"
      ]
     },
     "execution_count": 21,
     "metadata": {},
     "output_type": "execute_result"
    }
   ],
   "source": [
    "import pandas as pd\n",
    "\n",
    "# Create a sample DataFrame\n",
    "df = pd.DataFrame({\n",
    "    'product': ['Laptop', 'Phone', 'Tablet', 'Monitor'],\n",
    "    'price': [1200, 800, 350, 250],\n",
    "    'stock': [5, 12, 8, 3]\n",
    "})\n",
    "\n",
    "# Create a Series of column names and transformation functions\n",
    "columns_to_transform = pd.Series(['price', 'stock'])\n",
    "transformations = pd.Series([\n",
    "    lambda x: f\"${x:.2f}\",  # Format price as currency\n",
    "    lambda x: f\"{x} units\"   # Add 'units' to stock\n",
    "])\n",
    "\n",
    "# Apply transformations dynamically\n",
    "for col, transform in zip(columns_to_transform, transformations):\n",
    "    df[f\"{col}_formatted\"] = df[col].apply(transform)\n",
    "\n",
    "df"
   ]
  }
 ],
 "metadata": {
  "kernelspec": {
   "display_name": "ds-env",
   "language": "python",
   "name": "python3"
  },
  "language_info": {
   "codemirror_mode": {
    "name": "ipython",
    "version": 3
   },
   "file_extension": ".py",
   "mimetype": "text/x-python",
   "name": "python",
   "nbconvert_exporter": "python",
   "pygments_lexer": "ipython3",
   "version": "3.12.9"
  }
 },
 "nbformat": 4,
 "nbformat_minor": 2
}
